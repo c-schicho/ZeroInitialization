{
 "cells": [
  {
   "cell_type": "markdown",
   "source": [
    "# Learning Dynamics - Zero Initialization\n",
    "\n",
    "In order to see the result of the experiments run the following command from the command line in the project root directory `tensorboard --logdir results`."
   ],
   "metadata": {
    "collapsed": false
   }
  },
  {
   "cell_type": "code",
   "execution_count": null,
   "outputs": [],
   "source": [
    "import random\n",
    "\n",
    "import numpy as np\n",
    "import torch\n",
    "from torch import Generator\n",
    "from torch.optim import SGD\n",
    "\n",
    "from data import get_dataloader, seed_worker\n",
    "from models import MNISTFNNModel, MNISTCNNModel, CIFARCNNModel, LogisticRegression, CIFARFNNModel\n",
    "from train import Trainer, TrainerConfig, run_experiment"
   ],
   "metadata": {
    "collapsed": false
   }
  },
  {
   "cell_type": "code",
   "execution_count": null,
   "outputs": [],
   "source": [
    "R_SEED = 4240\n",
    "\n",
    "torch.manual_seed(R_SEED)\n",
    "random.seed(R_SEED)\n",
    "np.random.seed(R_SEED)"
   ],
   "metadata": {
    "collapsed": false
   }
  },
  {
   "cell_type": "markdown",
   "source": [
    "# 1. MNIST dataset"
   ],
   "metadata": {
    "collapsed": false
   }
  },
  {
   "cell_type": "code",
   "execution_count": null,
   "outputs": [],
   "source": [
    "MNIST_EPOCHS = 1"
   ],
   "metadata": {
    "collapsed": false
   }
  },
  {
   "cell_type": "markdown",
   "source": [
    "### 1.1 Baseline"
   ],
   "metadata": {
    "collapsed": false
   }
  },
  {
   "cell_type": "code",
   "execution_count": null,
   "outputs": [],
   "source": [
    "generator = Generator()\n",
    "generator.manual_seed(R_SEED)\n",
    "\n",
    "test_loader = get_dataloader(dataset=\"mnist\", train=False, batch_size=100, flatten=True)\n",
    "train_loader = get_dataloader(dataset=\"mnist\", train=True, batch_size=100, flatten=True, num_workers=1,\n",
    "                              worker_init_fn=seed_worker, generator=generator)\n",
    "\n",
    "model = LogisticRegression(28 * 28, 10)\n",
    "\n",
    "trainer = Trainer(model, model_name=\"MNIST_LOGISTIC\")\n",
    "trainer.train(train_loader, MNIST_EPOCHS)\n",
    "trainer.test(test_loader)"
   ],
   "metadata": {
    "collapsed": false
   }
  },
  {
   "cell_type": "markdown",
   "source": [
    "### 1.2 FNN Model"
   ],
   "metadata": {
    "collapsed": false
   }
  },
  {
   "cell_type": "markdown",
   "source": [
    "#### 1.2.1 Models without zero initialization"
   ],
   "metadata": {
    "collapsed": false
   }
  },
  {
   "cell_type": "code",
   "execution_count": null,
   "outputs": [],
   "source": [
    "generator = Generator()\n",
    "generator.manual_seed(R_SEED)\n",
    "\n",
    "test_loader = get_dataloader(dataset=\"mnist\", train=False, batch_size=100, flatten=True)\n",
    "train_loader = get_dataloader(dataset=\"mnist\", train=True, batch_size=100, flatten=True, num_workers=1,\n",
    "                              worker_init_fn=seed_worker, generator=generator)\n",
    "\n",
    "model = MNISTFNNModel()\n",
    "\n",
    "trainer = Trainer(model, model_name=\"MNIST_FNN\")\n",
    "trainer.train(train_loader, MNIST_EPOCHS)\n",
    "trainer.test(test_loader)"
   ],
   "metadata": {
    "collapsed": false
   }
  },
  {
   "cell_type": "code",
   "execution_count": null,
   "outputs": [],
   "source": [
    "generator = Generator()\n",
    "generator.manual_seed(R_SEED)\n",
    "\n",
    "test_loader = get_dataloader(dataset=\"mnist\", train=False, batch_size=16, flatten=True)\n",
    "train_loader = get_dataloader(dataset=\"mnist\", train=True, batch_size=16, flatten=True, num_workers=1,\n",
    "                              worker_init_fn=seed_worker, generator=generator)\n",
    "\n",
    "model = MNISTFNNModel()\n",
    "\n",
    "trainer = Trainer(model, model_name=\"MNIST_FNN_MINI_BATCH\")\n",
    "trainer.train(train_loader, MNIST_EPOCHS)\n",
    "trainer.test(test_loader)"
   ],
   "metadata": {
    "collapsed": false
   }
  },
  {
   "cell_type": "markdown",
   "source": [
    "#### 1.2.2 Experiments with zero initialisation"
   ],
   "metadata": {
    "collapsed": false
   }
  },
  {
   "cell_type": "code",
   "execution_count": null,
   "outputs": [],
   "source": [
    "configs = [\n",
    "    TrainerConfig(model_name=\"MNIST_FNN_ZERO\", epochs=FNN_EPOCHS, batch_size=100, initialization_mode=\"zero\"),\n",
    "    TrainerConfig(model_name=\"MNIST_FNN_NORMAL\", epochs=FNN_EPOCHS, batch_size=100, initialization_mode=\"normal\"),\n",
    "    TrainerConfig(model_name=\"MNIST_FNN_NORMAL_DOWN_SCALED\", epochs=FNN_EPOCHS, batch_size=100,\n",
    "                  initialization_mode=\"normal\", initialization_factor=.5),\n",
    "    TrainerConfig(model_name=\"MNIST_FNN_NORMAL_UP_SCALED\", epochs=FNN_EPOCHS, batch_size=100,\n",
    "                  initialization_mode=\"normal\", initialization_factor=2.),\n",
    "    TrainerConfig(model_name=\"MNIST_FNN_NORMAL_SGD\", epochs=FNN_EPOCHS, batch_size=100, initialization_mode=\"normal\",\n",
    "                  optimizer=SGD),\n",
    "    TrainerConfig(model_name=\"MNIST_FNN_NORMAL_MINI_BATCH\", epochs=FNN_EPOCHS, batch_size=16,\n",
    "                  initialization_mode=\"normal\"),\n",
    "\n",
    "    TrainerConfig(model_name=\"MNIST_FNN_UNIFORM\", epochs=FNN_EPOCHS, batch_size=100, initialization_mode=\"uniform\"),\n",
    "    TrainerConfig(model_name=\"MNIST_FNN_UNIFORM_DOWN_SCALED\", epochs=FNN_EPOCHS, batch_size=100,\n",
    "                  initialization_mode=\"uniform\", initialization_factor=.5),\n",
    "    TrainerConfig(model_name=\"MNIST_FNN_UNIFORM_UP_SCALED\", epochs=FNN_EPOCHS, batch_size=100,\n",
    "                  initialization_mode=\"uniform\", initialization_factor=2.),\n",
    "    TrainerConfig(model_name=\"MNIST_FNN_UNIFORM_SGD\", epochs=FNN_EPOCHS, batch_size=100, initialization_mode=\"uniform\",\n",
    "                  optimizer=SGD),\n",
    "    TrainerConfig(model_name=\"MNIST_FNN_UNIFORM_MINI_BATCH\", epochs=FNN_EPOCHS, batch_size=16,\n",
    "                  initialization_mode=\"uniform\"),\n",
    "]"
   ],
   "metadata": {
    "collapsed": false
   }
  },
  {
   "cell_type": "code",
   "execution_count": null,
   "outputs": [],
   "source": [
    "for config in configs:\n",
    "    model = MNISTFNNModel()\n",
    "    config.optimizer = config.optimizer if config.optimizer is None else config.optimizer(model.parameters(), lr=0.01)\n",
    "    run_experiment(model=model, dataset=\"mnist\", config=config, seed=R_SEED)\n",
    "    del model"
   ],
   "metadata": {
    "collapsed": false
   }
  },
  {
   "cell_type": "markdown",
   "source": [
    "### 1.3 CNN Model"
   ],
   "metadata": {
    "collapsed": false
   }
  },
  {
   "cell_type": "markdown",
   "source": [
    "#### 1.3.1 Models without zero initialization"
   ],
   "metadata": {
    "collapsed": false
   }
  },
  {
   "cell_type": "code",
   "execution_count": null,
   "outputs": [],
   "source": [
    "generator = Generator()\n",
    "generator.manual_seed(R_SEED)\n",
    "\n",
    "test_loader = get_dataloader(dataset=\"mnist\", train=False, batch_size=100)\n",
    "train_loader = get_dataloader(dataset=\"mnist\", train=True, batch_size=100, num_workers=1, worker_init_fn=seed_worker,\n",
    "                              generator=generator)\n",
    "\n",
    "model = MNISTCNNModel()\n",
    "\n",
    "trainer = Trainer(model, model_name=\"MNIST_CNN\")\n",
    "trainer.train(train_loader, MNIST_EPOCHS)\n",
    "trainer.test(test_loader)"
   ],
   "metadata": {
    "collapsed": false
   }
  },
  {
   "cell_type": "code",
   "execution_count": null,
   "outputs": [],
   "source": [
    "generator = Generator()\n",
    "generator.manual_seed(R_SEED)\n",
    "\n",
    "test_loader = get_dataloader(dataset=\"mnist\", train=False, batch_size=16)\n",
    "train_loader = get_dataloader(dataset=\"mnist\", train=True, batch_size=16, num_workers=1, worker_init_fn=seed_worker,\n",
    "                              generator=generator)\n",
    "\n",
    "model = MNISTCNNModel()\n",
    "\n",
    "trainer = Trainer(model, model_name=\"MNIST_CNN_MINI_BATCH\")\n",
    "trainer.train(train_loader, MNIST_EPOCHS)\n",
    "trainer.test(test_loader)"
   ],
   "metadata": {
    "collapsed": false
   }
  },
  {
   "cell_type": "markdown",
   "source": [
    "#### 1.3.2 Experiments with zero initialization"
   ],
   "metadata": {
    "collapsed": false
   }
  },
  {
   "cell_type": "code",
   "execution_count": null,
   "outputs": [],
   "source": [
    "configs = [\n",
    "    TrainerConfig(model_name=\"MNIST_CNN_ZERO\", epochs=MNIST_EPOCHS, batch_size=100, initialization_mode=\"zero\"),\n",
    "\n",
    "    TrainerConfig(model_name=\"MNIST_CNN_NORMAL\", epochs=MNIST_EPOCHS, batch_size=100, initialization_mode=\"normal\"),\n",
    "    TrainerConfig(model_name=\"MNIST_CNN_NORMAL_DOWN_SCALED\", epochs=MNIST_EPOCHS, batch_size=100,\n",
    "                  initialization_mode=\"normal\", initialization_factor=.5),\n",
    "    TrainerConfig(model_name=\"MNIST_CNN_NORMAL_UP_SCALED\", epochs=MNIST_EPOCHS, batch_size=100,\n",
    "                  initialization_mode=\"normal\", initialization_factor=2.),\n",
    "    TrainerConfig(model_name=\"MNIST_CNN_NORMAL_SGD\", epochs=MNIST_EPOCHS, batch_size=100, initialization_mode=\"normal\",\n",
    "                  optimizer=SGD),\n",
    "    TrainerConfig(model_name=\"MNIST_CNN_NORMAL_MINI_BATCH\", epochs=MNIST_EPOCHS, batch_size=16,\n",
    "                  initialization_mode=\"normal\"),\n",
    "\n",
    "    TrainerConfig(model_name=\"MNIST_CNN_UNIFORM\", epochs=MNIST_EPOCHS, batch_size=100, initialization_mode=\"uniform\"),\n",
    "    TrainerConfig(model_name=\"MNIST_CNN_UNIFORM_DOWN_SCALED\", epochs=MNIST_EPOCHS, batch_size=100,\n",
    "                  initialization_mode=\"uniform\", initialization_factor=.5),\n",
    "    TrainerConfig(model_name=\"MNIST_CNN_UNIFORM_UP_SCALED\", epochs=MNIST_EPOCHS, batch_size=100,\n",
    "                  initialization_mode=\"uniform\", initialization_factor=2.),\n",
    "    TrainerConfig(model_name=\"MNIST_CNN_UNIFORM_SGD\", epochs=MNIST_EPOCHS, batch_size=100,\n",
    "                  initialization_mode=\"uniform\",\n",
    "                  optimizer=SGD),\n",
    "    TrainerConfig(model_name=\"MNIST_CNN_UNIFORM_MINI_BATCH\", epochs=MNIST_EPOCHS, batch_size=16,\n",
    "                  initialization_mode=\"uniform\"),\n",
    "]"
   ],
   "metadata": {
    "collapsed": false
   }
  },
  {
   "cell_type": "code",
   "execution_count": null,
   "outputs": [],
   "source": [
    "for config in configs:\n",
    "    model = MNISTCNNModel()\n",
    "    config.optimizer = config.optimizer if config.optimizer is None else config.optimizer(model.parameters(), lr=0.002)\n",
    "    run_experiment(model=model, dataset=\"mnist\", config=config, seed=R_SEED)\n",
    "    del model"
   ],
   "metadata": {
    "collapsed": false
   }
  },
  {
   "cell_type": "markdown",
   "source": [
    "# 2. CIFAR 10 dataset"
   ],
   "metadata": {
    "collapsed": false
   }
  },
  {
   "cell_type": "code",
   "execution_count": null,
   "outputs": [],
   "source": [
    "CIFAR_EPOCHS = 1\n",
    "CIFAR_BATCH_SIZE = 16"
   ],
   "metadata": {
    "collapsed": false
   }
  },
  {
   "cell_type": "markdown",
   "source": [
    "### 2.1 Baseline"
   ],
   "metadata": {
    "collapsed": false
   }
  },
  {
   "cell_type": "code",
   "execution_count": null,
   "outputs": [],
   "source": [
    "generator = Generator()\n",
    "generator.manual_seed(R_SEED)\n",
    "\n",
    "test_loader = get_dataloader(dataset=\"cifar10\", train=False, batch_size=CIFAR_BATCH_SIZE, flatten=True)\n",
    "train_loader = get_dataloader(dataset=\"cifar10\", train=True, batch_size=CIFAR_BATCH_SIZE, flatten=True, num_workers=1,\n",
    "                              worker_init_fn=seed_worker, generator=generator)\n",
    "\n",
    "model = LogisticRegression(32 * 32 * 3, 10)\n",
    "\n",
    "trainer = Trainer(model, model_name=\"CIFAR_LOGISTIC\")\n",
    "trainer.train(train_loader, CIFAR_EPOCHS)\n",
    "trainer.test(test_loader)"
   ],
   "metadata": {
    "collapsed": false
   }
  },
  {
   "cell_type": "markdown",
   "source": [
    "### 2.2 FNN Model"
   ],
   "metadata": {
    "collapsed": false
   }
  },
  {
   "cell_type": "markdown",
   "source": [
    "#### 2.2.1 Models without zero initialization"
   ],
   "metadata": {
    "collapsed": false
   }
  },
  {
   "cell_type": "code",
   "execution_count": null,
   "outputs": [],
   "source": [
    "generator = Generator()\n",
    "generator.manual_seed(R_SEED)\n",
    "\n",
    "test_loader = get_dataloader(dataset=\"cifar10\", train=False, flatten=True, batch_size=CIFAR_BATCH_SIZE)\n",
    "train_loader = get_dataloader(dataset=\"cifar10\", train=True, flatten=True, batch_size=CIFAR_BATCH_SIZE, num_workers=1,\n",
    "                              worker_init_fn=seed_worker, generator=generator)\n",
    "\n",
    "model = CIFARFNNModel()\n",
    "trainer = Trainer(model, model_name=\"CIFAR_FNN\")\n",
    "trainer.train(train_loader, CIFAR_EPOCHS)\n",
    "trainer.test(test_loader)"
   ],
   "metadata": {
    "collapsed": false
   }
  },
  {
   "cell_type": "markdown",
   "source": [
    "#### 2.2.2 Experiments with zero initialization"
   ],
   "metadata": {
    "collapsed": false
   }
  },
  {
   "cell_type": "code",
   "execution_count": null,
   "outputs": [],
   "source": [
    "model = CIFARFNNModel()\n",
    "model.zero_initialization(\"zero\")\n",
    "\n",
    "trainer = Trainer(model, model_name=\"CIFAR10_FNN_ZERO\")\n",
    "trainer.train(train_loader, CIFAR_EPOCHS)\n",
    "trainer.test(test_loader)"
   ],
   "metadata": {
    "collapsed": false
   }
  },
  {
   "cell_type": "code",
   "execution_count": null,
   "outputs": [],
   "source": [
    "model = CIFARFNNModel()\n",
    "model.zero_initialization(\"uniform\")\n",
    "\n",
    "trainer = Trainer(model, model_name=\"CIFAR10_FNN_UNIFORM\")\n",
    "trainer.train(train_loader, CIFAR_EPOCHS)\n",
    "trainer.test(test_loader)"
   ],
   "metadata": {
    "collapsed": false
   }
  },
  {
   "cell_type": "code",
   "execution_count": null,
   "outputs": [],
   "source": [
    "model = CIFARFNNModel()\n",
    "model.zero_initialization(\"normal\")\n",
    "\n",
    "trainer = Trainer(model, model_name=\"CIFAR10_FNN_NORMAL\")\n",
    "trainer.train(train_loader, CIFAR_EPOCHS)\n",
    "trainer.test(test_loader)"
   ],
   "metadata": {
    "collapsed": false
   }
  },
  {
   "cell_type": "markdown",
   "source": [
    "### 2.3 CNN Model"
   ],
   "metadata": {
    "collapsed": false
   }
  },
  {
   "cell_type": "markdown",
   "source": [
    "#### 2.3.1 Models without zero initialization"
   ],
   "metadata": {
    "collapsed": false
   }
  },
  {
   "cell_type": "code",
   "execution_count": null,
   "outputs": [],
   "source": [
    "generator = Generator()\n",
    "generator.manual_seed(R_SEED)\n",
    "\n",
    "test_loader = get_dataloader(dataset=\"cifar10\", train=False, batch_size=CIFAR_BATCH_SIZE)\n",
    "train_loader = get_dataloader(dataset=\"cifar10\", train=True, batch_size=CIFAR_BATCH_SIZE, num_workers=1,\n",
    "                              worker_init_fn=seed_worker, generator=generator)\n",
    "\n",
    "model = CIFARCNNModel()\n",
    "\n",
    "trainer = Trainer(model, model_name=\"CIFAR10_CNN\")\n",
    "trainer.train(train_loader, CIFAR_EPOCHS)\n",
    "trainer.test(test_loader)"
   ],
   "metadata": {
    "collapsed": false
   }
  },
  {
   "cell_type": "markdown",
   "source": [
    "#### 2.3.2 Experiments with zero initialization"
   ],
   "metadata": {
    "collapsed": false
   }
  },
  {
   "cell_type": "code",
   "execution_count": null,
   "outputs": [],
   "source": [
    "model = CIFARCNNModel()\n",
    "model.zero_initialization(\"zero\")\n",
    "\n",
    "trainer = Trainer(model, model_name=\"CIFAR10_CNN_ZERO\")\n",
    "trainer.train(train_loader, CIFAR_EPOCHS)\n",
    "trainer.test(test_loader)"
   ],
   "metadata": {
    "collapsed": false
   }
  },
  {
   "cell_type": "code",
   "execution_count": null,
   "outputs": [],
   "source": [
    "model = CIFARCNNModel()\n",
    "model.zero_initialization(\"uniform\")\n",
    "\n",
    "trainer = Trainer(model, model_name=\"CIFAR10_CNN_UNIFORM\")\n",
    "trainer.train(train_loader, CIFAR_EPOCHS)\n",
    "trainer.test(test_loader)"
   ],
   "metadata": {
    "collapsed": false
   }
  },
  {
   "cell_type": "code",
   "execution_count": null,
   "outputs": [],
   "source": [
    "model = CIFARCNNModel()\n",
    "model.zero_initialization(\"normal\")\n",
    "\n",
    "trainer = Trainer(model, model_name=\"CIFAR10_CNN_NORMAL\")\n",
    "trainer.train(train_loader, CIFAR_EPOCHS)\n",
    "trainer.test(test_loader)"
   ],
   "metadata": {
    "collapsed": false
   }
  },
  {
   "cell_type": "code",
   "execution_count": null,
   "outputs": [],
   "source": [],
   "metadata": {
    "collapsed": false
   }
  }
 ],
 "metadata": {
  "kernelspec": {
   "display_name": "Python 3",
   "language": "python",
   "name": "python3"
  },
  "language_info": {
   "codemirror_mode": {
    "name": "ipython",
    "version": 2
   },
   "file_extension": ".py",
   "mimetype": "text/x-python",
   "name": "python",
   "nbconvert_exporter": "python",
   "pygments_lexer": "ipython2",
   "version": "2.7.6"
  }
 },
 "nbformat": 4,
 "nbformat_minor": 0
}
