{
 "cells": [
  {
   "cell_type": "markdown",
   "source": [
    "# Learning Dynamics - Zero Initialization"
   ],
   "metadata": {
    "collapsed": false
   }
  },
  {
   "cell_type": "code",
   "execution_count": null,
   "outputs": [],
   "source": [
    "import random\n",
    "\n",
    "import numpy as np\n",
    "import torch\n",
    "from torch import Generator\n",
    "\n",
    "from data import get_dataloader, seed_worker\n",
    "from models import MNISTFNNModel, MNISTCNNModel\n",
    "from train import Trainer"
   ],
   "metadata": {
    "collapsed": false
   }
  },
  {
   "cell_type": "code",
   "execution_count": null,
   "outputs": [],
   "source": [
    "R_SEED = 4240\n",
    "\n",
    "torch.manual_seed(R_SEED)\n",
    "random.seed(R_SEED)\n",
    "np.random.seed(R_SEED)"
   ],
   "metadata": {
    "collapsed": false
   }
  },
  {
   "cell_type": "code",
   "execution_count": null,
   "outputs": [],
   "source": [
    "# !tensorboard --logdir results"
   ],
   "metadata": {
    "collapsed": false
   }
  },
  {
   "cell_type": "markdown",
   "source": [
    "# 1. MNIST dataset"
   ],
   "metadata": {
    "collapsed": false
   }
  },
  {
   "cell_type": "markdown",
   "source": [
    "### 1.1 FNN Model"
   ],
   "metadata": {
    "collapsed": false
   }
  },
  {
   "cell_type": "code",
   "execution_count": null,
   "outputs": [],
   "source": [
    "FNN_EPOCHS = 1"
   ],
   "metadata": {
    "collapsed": false
   }
  },
  {
   "cell_type": "code",
   "execution_count": null,
   "outputs": [],
   "source": [
    "generator = Generator()\n",
    "generator.manual_seed(R_SEED)\n",
    "\n",
    "train_loader = get_dataloader(train=True, batch_size=100, flatten=True, shuffle=False, num_workers=1,\n",
    "                              worker_init_fn=seed_worker, generator=generator)\n",
    "\n",
    "test_loader = get_dataloader(train=False, batch_size=100, flatten=True, shuffle=False)"
   ],
   "metadata": {
    "collapsed": false
   }
  },
  {
   "cell_type": "code",
   "execution_count": null,
   "outputs": [],
   "source": [
    "model = MNISTFNNModel()\n",
    "\n",
    "trainer = Trainer(model, model_name=\"MNIST_FNN\")\n",
    "trainer.train(train_loader, FNN_EPOCHS)\n",
    "trainer.test(test_loader)"
   ],
   "metadata": {
    "collapsed": false
   }
  },
  {
   "cell_type": "code",
   "execution_count": null,
   "outputs": [],
   "source": [
    "model = MNISTFNNModel()\n",
    "model.zero_initialization(\"zero\")\n",
    "\n",
    "trainer = Trainer(model, model_name=\"MNIST_FNN_ZERO\")\n",
    "trainer.train(train_loader, FNN_EPOCHS)\n",
    "trainer.test(test_loader)"
   ],
   "metadata": {
    "collapsed": false
   }
  },
  {
   "cell_type": "code",
   "execution_count": null,
   "outputs": [],
   "source": [
    "model = MNISTFNNModel()\n",
    "model.zero_initialization(\"uniform\")\n",
    "\n",
    "trainer = Trainer(model, model_name=\"MNIST_FNN_UNIFORM\")\n",
    "trainer.train(train_loader, FNN_EPOCHS)\n",
    "trainer.test(test_loader)"
   ],
   "metadata": {
    "collapsed": false
   }
  },
  {
   "cell_type": "code",
   "execution_count": null,
   "outputs": [],
   "source": [
    "model = MNISTFNNModel()\n",
    "model.zero_initialization(\"normal\")\n",
    "\n",
    "trainer = Trainer(model, model_name=\"MNIST_FNN_NORMAL\")\n",
    "trainer.train(train_loader, FNN_EPOCHS)\n",
    "trainer.test(test_loader)"
   ],
   "metadata": {
    "collapsed": false
   }
  },
  {
   "cell_type": "markdown",
   "source": [
    "# 1.2 CNN Model"
   ],
   "metadata": {
    "collapsed": false
   }
  },
  {
   "cell_type": "code",
   "execution_count": null,
   "outputs": [],
   "source": [
    "CNN_EPOCHS = 1"
   ],
   "metadata": {
    "collapsed": false
   }
  },
  {
   "cell_type": "code",
   "execution_count": null,
   "outputs": [],
   "source": [
    "generator = Generator()\n",
    "generator.manual_seed(R_SEED)\n",
    "\n",
    "train_loader = get_dataloader(train=True, batch_size=100, flatten=False, shuffle=False, num_workers=1,\n",
    "                              worker_init_fn=seed_worker, generator=generator)\n",
    "\n",
    "test_loader = get_dataloader(train=False, batch_size=100, flatten=False, shuffle=False)"
   ],
   "metadata": {
    "collapsed": false
   }
  },
  {
   "cell_type": "code",
   "execution_count": null,
   "outputs": [],
   "source": [
    "model = MNISTCNNModel()\n",
    "\n",
    "trainer = Trainer(model, model_name=\"MNIST_CNN\")\n",
    "trainer.train(train_loader, CNN_EPOCHS)\n",
    "trainer.test(test_loader)"
   ],
   "metadata": {
    "collapsed": false
   }
  },
  {
   "cell_type": "code",
   "execution_count": null,
   "outputs": [],
   "source": [
    "model = MNISTCNNModel()\n",
    "model.zero_initialization(\"zero\")\n",
    "\n",
    "trainer = Trainer(model, model_name=\"MNIST_CNN_ZERO\")\n",
    "trainer.train(train_loader, CNN_EPOCHS)\n",
    "trainer.test(test_loader)"
   ],
   "metadata": {
    "collapsed": false
   }
  },
  {
   "cell_type": "code",
   "execution_count": null,
   "outputs": [],
   "source": [
    "model = MNISTCNNModel()\n",
    "model.zero_initialization(\"uniform\")\n",
    "\n",
    "trainer = Trainer(model, model_name=\"MNIST_CNN_UNIFORM\")\n",
    "trainer.train(train_loader, CNN_EPOCHS)\n",
    "trainer.test(test_loader)"
   ],
   "metadata": {
    "collapsed": false
   }
  },
  {
   "cell_type": "code",
   "execution_count": null,
   "outputs": [],
   "source": [
    "model = MNISTCNNModel()\n",
    "model.zero_initialization(\"normal\")\n",
    "\n",
    "trainer = Trainer(model, model_name=\"MNIST_CNN_NORMAL\")\n",
    "trainer.train(train_loader, CNN_EPOCHS)\n",
    "trainer.test(test_loader)"
   ],
   "metadata": {
    "collapsed": false
   }
  }
 ],
 "metadata": {
  "kernelspec": {
   "display_name": "Python 3",
   "language": "python",
   "name": "python3"
  },
  "language_info": {
   "codemirror_mode": {
    "name": "ipython",
    "version": 2
   },
   "file_extension": ".py",
   "mimetype": "text/x-python",
   "name": "python",
   "nbconvert_exporter": "python",
   "pygments_lexer": "ipython2",
   "version": "2.7.6"
  }
 },
 "nbformat": 4,
 "nbformat_minor": 0
}
