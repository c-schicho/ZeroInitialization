{
 "cells": [
  {
   "cell_type": "markdown",
   "source": [
    "# Learning Dynamics - Zero Initialization"
   ],
   "metadata": {
    "collapsed": false
   }
  },
  {
   "cell_type": "code",
   "execution_count": 1,
   "outputs": [],
   "source": [
    "import random\n",
    "\n",
    "import numpy as np\n",
    "import torch\n",
    "from torch import Generator\n",
    "\n",
    "from data import get_dataloader, seed_worker\n",
    "from models import MNISTFNNModel, MNISTCNNModel\n",
    "from train import Trainer"
   ],
   "metadata": {
    "collapsed": false
   }
  },
  {
   "cell_type": "code",
   "execution_count": 2,
   "outputs": [],
   "source": [
    "R_SEED = 4240\n",
    "\n",
    "torch.manual_seed(R_SEED)\n",
    "random.seed(R_SEED)\n",
    "np.random.seed(R_SEED)"
   ],
   "metadata": {
    "collapsed": false
   }
  },
  {
   "cell_type": "markdown",
   "source": [
    "# 1. MNIST dataset"
   ],
   "metadata": {
    "collapsed": false
   }
  },
  {
   "cell_type": "markdown",
   "source": [
    "### 1.1 FNN Model"
   ],
   "metadata": {
    "collapsed": false
   }
  },
  {
   "cell_type": "code",
   "execution_count": 3,
   "outputs": [],
   "source": [
    "generator = Generator()\n",
    "generator.manual_seed(R_SEED)\n",
    "\n",
    "train_loader = get_dataloader(train=True, batch_size=100, flatten=True, shuffle=False, num_workers=1,\n",
    "                              worker_init_fn=seed_worker, generator=generator)"
   ],
   "metadata": {
    "collapsed": false
   }
  },
  {
   "cell_type": "code",
   "execution_count": null,
   "outputs": [],
   "source": [
    "model = MNISTFNNModel()\n",
    "\n",
    "trainer = Trainer(model)\n",
    "trainer.train(train_loader, 2)"
   ],
   "metadata": {
    "collapsed": false
   }
  },
  {
   "cell_type": "code",
   "execution_count": 4,
   "outputs": [
    {
     "name": "stderr",
     "output_type": "stream",
     "text": [
      "Epoch 1/2: 100%|████████████████████████████████████████| 600/600 [00:52<00:00, 11.53it/s]\n",
      "Epoch 2/2: 100%|████████████████████████████████████████| 600/600 [00:50<00:00, 11.90it/s]\n"
     ]
    }
   ],
   "source": [
    "model = MNISTFNNModel()\n",
    "model.zero_initialization(\"uniform\")\n",
    "\n",
    "trainer = Trainer(model)\n",
    "trainer.train(train_loader, 2)"
   ],
   "metadata": {
    "collapsed": false
   }
  },
  {
   "cell_type": "markdown",
   "source": [
    "# 1.2 CNN Model"
   ],
   "metadata": {
    "collapsed": false
   }
  },
  {
   "cell_type": "code",
   "execution_count": 3,
   "outputs": [],
   "source": [
    "generator = Generator()\n",
    "generator.manual_seed(R_SEED)\n",
    "\n",
    "train_loader = get_dataloader(train=True, batch_size=100, flatten=False, shuffle=False, num_workers=1,\n",
    "                              worker_init_fn=seed_worker, generator=generator)"
   ],
   "metadata": {
    "collapsed": false
   }
  },
  {
   "cell_type": "code",
   "execution_count": null,
   "outputs": [],
   "source": [
    "model = MNISTCNNModel()\n",
    "\n",
    "trainer = Trainer(model)\n",
    "trainer.train(train_loader, 2)"
   ],
   "metadata": {
    "collapsed": false
   }
  },
  {
   "cell_type": "code",
   "execution_count": 4,
   "outputs": [
    {
     "name": "stderr",
     "output_type": "stream",
     "text": [
      "Epoch 1/2: 100%|████████████████████████████████████████| 600/600 [00:37<00:00, 15.98it/s]\n",
      "Epoch 2/2: 100%|████████████████████████████████████████| 600/600 [00:40<00:00, 14.85it/s]\n"
     ]
    }
   ],
   "source": [
    "model = MNISTCNNModel()\n",
    "model.zero_initialization(\"uniform\")\n",
    "\n",
    "trainer = Trainer(model)\n",
    "trainer.train(train_loader, 2)"
   ],
   "metadata": {
    "collapsed": false
   }
  },
  {
   "cell_type": "code",
   "execution_count": null,
   "outputs": [],
   "source": [],
   "metadata": {
    "collapsed": false
   }
  }
 ],
 "metadata": {
  "kernelspec": {
   "display_name": "Python 3",
   "language": "python",
   "name": "python3"
  },
  "language_info": {
   "codemirror_mode": {
    "name": "ipython",
    "version": 2
   },
   "file_extension": ".py",
   "mimetype": "text/x-python",
   "name": "python",
   "nbconvert_exporter": "python",
   "pygments_lexer": "ipython2",
   "version": "2.7.6"
  }
 },
 "nbformat": 4,
 "nbformat_minor": 0
}
